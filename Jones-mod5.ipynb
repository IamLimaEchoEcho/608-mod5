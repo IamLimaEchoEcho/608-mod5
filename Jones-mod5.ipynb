{
 "cells": [
  {
   "cell_type": "code",
   "execution_count": 9,
   "metadata": {},
   "outputs": [
    {
     "name": "stdout",
     "output_type": "stream",
     "text": [
      "0     87\n",
      "1    100\n",
      "2     94\n",
      "dtype: int64\n",
      "First Grade: 87\n",
      "Grades Count: 3\n",
      "Grades Mean: 93.66666666666667\n",
      "Grades Min: 87\n",
      "Grades Max: 100\n",
      "Grades Std: 6.506407098647712\n",
      "Grades Describe: count      3.000000\n",
      "mean      93.666667\n",
      "std        6.506407\n",
      "min       87.000000\n",
      "25%       90.500000\n",
      "50%       94.000000\n",
      "75%       97.000000\n",
      "max      100.000000\n",
      "dtype: float64\n"
     ]
    }
   ],
   "source": [
    "#Lee Jones\n",
    "import pandas as pd\n",
    "\n",
    "grades = pd.Series([87, 100, 94])\n",
    "\n",
    "print(grades)\n",
    "print(f'First Grade: {grades[0]}')\n",
    "print(f'Grades Count: {grades.count()}')\n",
    "print(f'Grades Mean: {grades.mean()}')\n",
    "print(f'Grades Min: {grades.min()}')\n",
    "print(f'Grades Max: {grades.max()}')\n",
    "print(f'Grades Std: {grades.std()}')\n",
    "print(f'Grades Describe: {grades.describe()}')"
   ]
  },
  {
   "cell_type": "code",
   "execution_count": 21,
   "metadata": {},
   "outputs": [
    {
     "name": "stdout",
     "output_type": "stream",
     "text": [
      "Wally     87\n",
      "Eva      100\n",
      "Sam       94\n",
      "dtype: int64\n",
      "100\n",
      "87\n",
      "[ 87 100  94]\n",
      "Lee Jones\n"
     ]
    }
   ],
   "source": [
    "#Dictionary Initializers\n",
    "grades = pd.Series({'Wally': 87, 'Eva': 100, 'Sam': 94})\n",
    "\n",
    "print(grades)\n",
    "print(grades['Eva'])\n",
    "print(grades.Wally)\n",
    "\n",
    "print(grades.values)\n",
    "print('Lee Jones')"
   ]
  }
 ],
 "metadata": {
  "kernelspec": {
   "display_name": "Python 3.9.12 ('base')",
   "language": "python",
   "name": "python3"
  },
  "language_info": {
   "codemirror_mode": {
    "name": "ipython",
    "version": 3
   },
   "file_extension": ".py",
   "mimetype": "text/x-python",
   "name": "python",
   "nbconvert_exporter": "python",
   "pygments_lexer": "ipython3",
   "version": "3.9.12"
  },
  "orig_nbformat": 4,
  "vscode": {
   "interpreter": {
    "hash": "fd998f0dae5f08cebb7df1c28aeb21fcbbf832e26386bcca61b87155b79048bf"
   }
  }
 },
 "nbformat": 4,
 "nbformat_minor": 2
}
